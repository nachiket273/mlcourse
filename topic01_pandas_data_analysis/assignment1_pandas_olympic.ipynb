{
 "cells": [
  {
   "cell_type": "markdown",
   "metadata": {},
   "source": [
    "<center>\n",
    "<img src=\"../../img/ods_stickers.jpg\" />\n",
    "    \n",
    "## [mlcourse.ai](https://mlcourse.ai) – Open Machine Learning Course \n",
    "Author: Arina Lopukhova (@erynn). Edited by [Yury Kashnitskiy](https://yorko.github.io) (@yorko) and Vadim Shestopalov (@vchulski). This material is subject to the terms and conditions of the [Creative Commons CC BY-NC-SA 4.0](https://creativecommons.org/licenses/by-nc-sa/4.0/) license. Free use is permitted for any non-commercial purpose."
   ]
  },
  {
   "cell_type": "markdown",
   "metadata": {},
   "source": [
    "# <center>Assignment #1. Fall 2019\n",
    "## <center>Exploratory data analysis of Olympic games with Pandas\n",
    "    \n",
    "<img src='../../img/olympic_logo.png' width=50%>"
   ]
  },
  {
   "cell_type": "markdown",
   "metadata": {},
   "source": [
    "Prior to working on the assignment, you'd better check out the corresponding course material:\n",
    " - [Exploratory data analysis with Pandas](https://nbviewer.jupyter.org/github/Yorko/mlcourse_open/blob/master/jupyter_english/topic01_pandas_data_analysis/topic1_pandas_data_analysis.ipynb?flush_cache=true), the same as an interactive web-based [Kaggle Kernel](https://www.kaggle.com/kashnitsky/topic-1-exploratory-data-analysis-with-pandas)\n",
    " - first lectures in mlcourse.ai [YouTube playlist ](https://www.youtube.com/watch?v=QKTuw4PNOsU&list=PLVlY_7IJCMJeRfZ68eVfEcu-UcN9BbwiX) \n",
    " - you can also practice with demo assignments, which are simpler and already shared with solutions: [A1 demo](https://www.kaggle.com/kashnitsky/a1-demo-pandas-and-uci-adult-dataset), [solution](https://www.kaggle.com/kashnitsky/a1-demo-pandas-and-uci-adult-dataset-solution)\n",
    "\n",
    "### Your task is to:\n",
    " 1. write code and perform computations in the cells below\n",
    " 2. choose answers in the [webform](https://docs.google.com/forms/d/1JxhQ9Bg4OpM3E5N47ZuRbILgDuMRbvEnUbDMZK8L-NU). Solutions will be shared only with those who've filled in this form \n",
    " 3. submit answers with some email and **remember it**! This will be your ID during the course. Specify your real full name in the form as well (no nicks allowed in the final top-100 [rating](https://mlcourse.ai/rating)). If in doubt, you can re-submit the form till the deadline for A1, no problem, but stick to only one email.\n",
    " \n",
    "### <center> Deadline for A1: 2019 September 15, 20:59 GMT (London time)\n",
    "    \n",
    "You'll get up to 10 credits for this assignment.\n",
    "\n",
    "### How to get help\n",
    "In [ODS Slack](https://opendatascience.slack.com) (if you still don't have access, fill in the [form](https://docs.google.com/forms/d/10HAN5huM996snUKjsNYyT_oOlm2uOsTKulKurb3oiNM/) mentioned on the mlcourse.ai main page), we have a channel **#mlcourse_ai_news** with announcements from the course team.\n",
    "You can discuss the course content freely in the **#mlcourse_ai** channel (we still have a huge Russian-speaking group, they have a separate channel **#mlcourse_ai_rus**).\n",
    "\n",
    "Here's how you reply in a thread (press this dialog icon to drill down into a thread):\n",
    "\n",
    "<img src=\"../../img/start_a_thread.png\" />\n",
    "\n",
    "Please stick to special threads *a1_q1-5_fall2019* and *a1_q6-10_fall2019* in **#mlcourse_ai_news** for your questions on A1. Help each other without sharing correct code and answers. Our TA **Vadim @vchulski** is there to help (only in the mentioned thread, do not write to him directly).\n",
    "\n",
    "Lastly, you can save useful messages by pinning them, further you can find pinned items on the top, just below the channel name:\n",
    "\n",
    "<img src=\"../../img/pinned_item.png\" />\n",
    "\n",
    "### Assignment \n",
    "__There are ten questions about 120 years of Olympic history in this task. Your task is to fill in the missing Python code and choose answers in [this web-form](https://docs.google.com/forms/d/1JxhQ9Bg4OpM3E5N47ZuRbILgDuMRbvEnUbDMZK8L-NU).__"
   ]
  },
  {
   "cell_type": "markdown",
   "metadata": {},
   "source": [
    "Download the file `athlete_events.csv` from [here](https://drive.google.com/file/d/1f5v6Z2ayc7h698FG_98wP5x1Y2zZQeox/view?usp=sharing) (scraped by [rgriffin](https://www.randigriffin.com/) from www.sports-reference.com). The dataset has the following features:\n",
    "\n",
    "- __ID__ - Unique number for each athlete\n",
    "- __Name__ - Athlete's name\n",
    "- __Sex__ - M or F\n",
    "- __Age__ - Integer\n",
    "- __Height__ - In centimeters\n",
    "- __Weight__ - In kilograms\n",
    "- __Team__ - Team name\n",
    "- __NOC__ - National Olympic Committee 3-letter code\n",
    "- __Games__ - Year and season\n",
    "- __Year__ - Integer\n",
    "- __Season__ - Summer or Winter\n",
    "- __City__ - Host city\n",
    "- __Sport__ - Sport\n",
    "- __Event__ - Event\n",
    "- __Medal__ - Gold, Silver, Bronze, or NA"
   ]
  },
  {
   "cell_type": "code",
   "execution_count": 1,
   "metadata": {},
   "outputs": [],
   "source": [
    "import pandas as pd"
   ]
  },
  {
   "cell_type": "code",
   "execution_count": 2,
   "metadata": {},
   "outputs": [],
   "source": [
    "# Change the path to the dataset file if needed. \n",
    "PATH = '../../data/athlete_events.csv'"
   ]
  },
  {
   "cell_type": "code",
   "execution_count": 4,
   "metadata": {},
   "outputs": [
    {
     "data": {
      "text/html": [
       "<div>\n",
       "<style scoped>\n",
       "    .dataframe tbody tr th:only-of-type {\n",
       "        vertical-align: middle;\n",
       "    }\n",
       "\n",
       "    .dataframe tbody tr th {\n",
       "        vertical-align: top;\n",
       "    }\n",
       "\n",
       "    .dataframe thead th {\n",
       "        text-align: right;\n",
       "    }\n",
       "</style>\n",
       "<table border=\"1\" class=\"dataframe\">\n",
       "  <thead>\n",
       "    <tr style=\"text-align: right;\">\n",
       "      <th></th>\n",
       "      <th>ID</th>\n",
       "      <th>Name</th>\n",
       "      <th>Sex</th>\n",
       "      <th>Age</th>\n",
       "      <th>Height</th>\n",
       "      <th>Weight</th>\n",
       "      <th>Team</th>\n",
       "      <th>NOC</th>\n",
       "      <th>Games</th>\n",
       "      <th>Year</th>\n",
       "      <th>Season</th>\n",
       "      <th>City</th>\n",
       "      <th>Sport</th>\n",
       "      <th>Event</th>\n",
       "      <th>Medal</th>\n",
       "    </tr>\n",
       "  </thead>\n",
       "  <tbody>\n",
       "    <tr>\n",
       "      <td>0</td>\n",
       "      <td>1</td>\n",
       "      <td>A Dijiang</td>\n",
       "      <td>M</td>\n",
       "      <td>24.0</td>\n",
       "      <td>180.0</td>\n",
       "      <td>80.0</td>\n",
       "      <td>China</td>\n",
       "      <td>CHN</td>\n",
       "      <td>1992 Summer</td>\n",
       "      <td>1992</td>\n",
       "      <td>Summer</td>\n",
       "      <td>Barcelona</td>\n",
       "      <td>Basketball</td>\n",
       "      <td>Basketball Men's Basketball</td>\n",
       "      <td>NaN</td>\n",
       "    </tr>\n",
       "    <tr>\n",
       "      <td>1</td>\n",
       "      <td>2</td>\n",
       "      <td>A Lamusi</td>\n",
       "      <td>M</td>\n",
       "      <td>23.0</td>\n",
       "      <td>170.0</td>\n",
       "      <td>60.0</td>\n",
       "      <td>China</td>\n",
       "      <td>CHN</td>\n",
       "      <td>2012 Summer</td>\n",
       "      <td>2012</td>\n",
       "      <td>Summer</td>\n",
       "      <td>London</td>\n",
       "      <td>Judo</td>\n",
       "      <td>Judo Men's Extra-Lightweight</td>\n",
       "      <td>NaN</td>\n",
       "    </tr>\n",
       "    <tr>\n",
       "      <td>2</td>\n",
       "      <td>3</td>\n",
       "      <td>Gunnar Nielsen Aaby</td>\n",
       "      <td>M</td>\n",
       "      <td>24.0</td>\n",
       "      <td>NaN</td>\n",
       "      <td>NaN</td>\n",
       "      <td>Denmark</td>\n",
       "      <td>DEN</td>\n",
       "      <td>1920 Summer</td>\n",
       "      <td>1920</td>\n",
       "      <td>Summer</td>\n",
       "      <td>Antwerpen</td>\n",
       "      <td>Football</td>\n",
       "      <td>Football Men's Football</td>\n",
       "      <td>NaN</td>\n",
       "    </tr>\n",
       "    <tr>\n",
       "      <td>3</td>\n",
       "      <td>4</td>\n",
       "      <td>Edgar Lindenau Aabye</td>\n",
       "      <td>M</td>\n",
       "      <td>34.0</td>\n",
       "      <td>NaN</td>\n",
       "      <td>NaN</td>\n",
       "      <td>Denmark/Sweden</td>\n",
       "      <td>DEN</td>\n",
       "      <td>1900 Summer</td>\n",
       "      <td>1900</td>\n",
       "      <td>Summer</td>\n",
       "      <td>Paris</td>\n",
       "      <td>Tug-Of-War</td>\n",
       "      <td>Tug-Of-War Men's Tug-Of-War</td>\n",
       "      <td>Gold</td>\n",
       "    </tr>\n",
       "    <tr>\n",
       "      <td>4</td>\n",
       "      <td>5</td>\n",
       "      <td>Christine Jacoba Aaftink</td>\n",
       "      <td>F</td>\n",
       "      <td>21.0</td>\n",
       "      <td>185.0</td>\n",
       "      <td>82.0</td>\n",
       "      <td>Netherlands</td>\n",
       "      <td>NED</td>\n",
       "      <td>1988 Winter</td>\n",
       "      <td>1988</td>\n",
       "      <td>Winter</td>\n",
       "      <td>Calgary</td>\n",
       "      <td>Speed Skating</td>\n",
       "      <td>Speed Skating Women's 500 metres</td>\n",
       "      <td>NaN</td>\n",
       "    </tr>\n",
       "  </tbody>\n",
       "</table>\n",
       "</div>"
      ],
      "text/plain": [
       "   ID                      Name Sex   Age  Height  Weight            Team  \\\n",
       "0   1                 A Dijiang   M  24.0   180.0    80.0           China   \n",
       "1   2                  A Lamusi   M  23.0   170.0    60.0           China   \n",
       "2   3       Gunnar Nielsen Aaby   M  24.0     NaN     NaN         Denmark   \n",
       "3   4      Edgar Lindenau Aabye   M  34.0     NaN     NaN  Denmark/Sweden   \n",
       "4   5  Christine Jacoba Aaftink   F  21.0   185.0    82.0     Netherlands   \n",
       "\n",
       "   NOC        Games  Year  Season       City          Sport  \\\n",
       "0  CHN  1992 Summer  1992  Summer  Barcelona     Basketball   \n",
       "1  CHN  2012 Summer  2012  Summer     London           Judo   \n",
       "2  DEN  1920 Summer  1920  Summer  Antwerpen       Football   \n",
       "3  DEN  1900 Summer  1900  Summer      Paris     Tug-Of-War   \n",
       "4  NED  1988 Winter  1988  Winter    Calgary  Speed Skating   \n",
       "\n",
       "                              Event Medal  \n",
       "0       Basketball Men's Basketball   NaN  \n",
       "1      Judo Men's Extra-Lightweight   NaN  \n",
       "2           Football Men's Football   NaN  \n",
       "3       Tug-Of-War Men's Tug-Of-War  Gold  \n",
       "4  Speed Skating Women's 500 metres   NaN  "
      ]
     },
     "execution_count": 4,
     "metadata": {},
     "output_type": "execute_result"
    }
   ],
   "source": [
    "data = pd.read_csv(PATH)\n",
    "data.head()"
   ]
  },
  {
   "cell_type": "markdown",
   "metadata": {},
   "source": [
    "__1. How old were the youngest male and female participants of the 1992 Olympics?__\n",
    "\n",
    "*For discussions, please stick to [ODS Slack](https://opendatascience.slack.com/), channel #mlcourse_ai_news, pinned thread #a1_q1-5_fall2019*\n",
    "\n",
    "- 16 and 15\n",
    "- 14 and 13 \n",
    "- 13 and 11<br>\n",
    "__- 11 and 12__"
   ]
  },
  {
   "cell_type": "code",
   "execution_count": 7,
   "metadata": {},
   "outputs": [
    {
     "data": {
      "text/html": [
       "<div>\n",
       "<style scoped>\n",
       "    .dataframe tbody tr th:only-of-type {\n",
       "        vertical-align: middle;\n",
       "    }\n",
       "\n",
       "    .dataframe tbody tr th {\n",
       "        vertical-align: top;\n",
       "    }\n",
       "\n",
       "    .dataframe thead th {\n",
       "        text-align: right;\n",
       "    }\n",
       "</style>\n",
       "<table border=\"1\" class=\"dataframe\">\n",
       "  <thead>\n",
       "    <tr style=\"text-align: right;\">\n",
       "      <th></th>\n",
       "      <th>count</th>\n",
       "      <th>mean</th>\n",
       "      <th>std</th>\n",
       "      <th>min</th>\n",
       "      <th>25%</th>\n",
       "      <th>50%</th>\n",
       "      <th>75%</th>\n",
       "      <th>max</th>\n",
       "    </tr>\n",
       "    <tr>\n",
       "      <th>Sex</th>\n",
       "      <th></th>\n",
       "      <th></th>\n",
       "      <th></th>\n",
       "      <th></th>\n",
       "      <th></th>\n",
       "      <th></th>\n",
       "      <th></th>\n",
       "      <th></th>\n",
       "    </tr>\n",
       "  </thead>\n",
       "  <tbody>\n",
       "    <tr>\n",
       "      <td>F</td>\n",
       "      <td>5171.0</td>\n",
       "      <td>22.940437</td>\n",
       "      <td>5.198453</td>\n",
       "      <td>12.0</td>\n",
       "      <td>19.0</td>\n",
       "      <td>23.0</td>\n",
       "      <td>26.0</td>\n",
       "      <td>53.0</td>\n",
       "    </tr>\n",
       "    <tr>\n",
       "      <td>M</td>\n",
       "      <td>11198.0</td>\n",
       "      <td>24.955438</td>\n",
       "      <td>5.028283</td>\n",
       "      <td>11.0</td>\n",
       "      <td>22.0</td>\n",
       "      <td>24.0</td>\n",
       "      <td>27.0</td>\n",
       "      <td>62.0</td>\n",
       "    </tr>\n",
       "  </tbody>\n",
       "</table>\n",
       "</div>"
      ],
      "text/plain": [
       "       count       mean       std   min   25%   50%   75%   max\n",
       "Sex                                                            \n",
       "F     5171.0  22.940437  5.198453  12.0  19.0  23.0  26.0  53.0\n",
       "M    11198.0  24.955438  5.028283  11.0  22.0  24.0  27.0  62.0"
      ]
     },
     "execution_count": 7,
     "metadata": {},
     "output_type": "execute_result"
    }
   ],
   "source": [
    "# You code here\n",
    "data[data['Year'] == 1992].groupby('Sex')['Age'].describe()"
   ]
  },
  {
   "cell_type": "markdown",
   "metadata": {},
   "source": [
    "__2. What was the percentage of male basketball players among all the male participants of the 2012 Olympics? Round the answer to the first decimal.__\n",
    "\n",
    "*Hint:* drop duplicate athletes where necessary to count each athlete just once. This applies to other questions too. \n",
    "\n",
    "*For discussions, please stick to [ODS Slack](https://opendatascience.slack.com/), channel #mlcourse_ai_news, pinned thread #a1_q1-5_fall2019*\n",
    "\n",
    "- 0.2\n",
    "- 1.5 <br>\n",
    "**- 2.5**\n",
    "- 7.7"
   ]
  },
  {
   "cell_type": "code",
   "execution_count": 9,
   "metadata": {},
   "outputs": [],
   "source": [
    "# You code here\n",
    "sub_iq = data[(data['Year'] == 2012) & (data['Sex'] == 'M')].drop_duplicates(subset='Name')"
   ]
  },
  {
   "cell_type": "code",
   "execution_count": 10,
   "metadata": {},
   "outputs": [
    {
     "name": "stdout",
     "output_type": "stream",
     "text": [
      "Total male atheletes in 2012: 5858\n"
     ]
    }
   ],
   "source": [
    "print(\"Total male atheletes in 2012: {}\".format(len(sub_iq)))"
   ]
  },
  {
   "cell_type": "code",
   "execution_count": 11,
   "metadata": {},
   "outputs": [
    {
     "name": "stdout",
     "output_type": "stream",
     "text": [
      "% of male athelete in 2012 those play Basketball: \n",
      "2.4411061795834756\n"
     ]
    }
   ],
   "source": [
    "print(\"% of male athelete in 2012 those play Basketball: \")\n",
    "print(100 * len(sub_iq[sub_iq['Sport'] == 'Basketball']) / len(sub_iq))"
   ]
  },
  {
   "cell_type": "markdown",
   "metadata": {},
   "source": [
    "__3. What are the mean and standard deviation of height for female tennis players who participated in the 2000 Olympics? Round the answer to the first decimal.__\n",
    "\n",
    "*For discussions, please stick to [ODS Slack](https://opendatascience.slack.com/), channel #mlcourse_ai_news, pinned thread #a1_q1-5_fall2019*\n",
    "<br>\n",
    "**- 171.8 and 6.5**\n",
    "- 179.4 and 10\n",
    "- 180.7 and 6.7\n",
    "- 182.4 and 9.1 "
   ]
  },
  {
   "cell_type": "code",
   "execution_count": 13,
   "metadata": {},
   "outputs": [
    {
     "data": {
      "text/plain": [
       "count    125.000000\n",
       "mean     171.792000\n",
       "std        6.458673\n",
       "min      150.000000\n",
       "25%      168.000000\n",
       "50%      172.000000\n",
       "75%      176.000000\n",
       "max      191.000000\n",
       "Name: Height, dtype: float64"
      ]
     },
     "execution_count": 13,
     "metadata": {},
     "output_type": "execute_result"
    }
   ],
   "source": [
    "# You code here\n",
    "data[(data['Year'] == 2000) & (data['Sex'] == 'F') & (data['Sport'] == 'Tennis')]['Height'].describe()"
   ]
  },
  {
   "cell_type": "markdown",
   "metadata": {},
   "source": [
    "__4. Find the heaviest athlete among 2006 Olympics participants. What sport did he or she do?__\n",
    "\n",
    "*For discussions, please stick to [ODS Slack](https://opendatascience.slack.com/), channel #mlcourse_ai_news, pinned thread #a1_q1-5_fall2019*\n",
    "\n",
    "- Judo\n",
    "- Bobsleigh<br>\n",
    "**- Skeleton**\n",
    "- Boxing"
   ]
  },
  {
   "cell_type": "code",
   "execution_count": 15,
   "metadata": {},
   "outputs": [
    {
     "data": {
      "text/html": [
       "<div>\n",
       "<style scoped>\n",
       "    .dataframe tbody tr th:only-of-type {\n",
       "        vertical-align: middle;\n",
       "    }\n",
       "\n",
       "    .dataframe tbody tr th {\n",
       "        vertical-align: top;\n",
       "    }\n",
       "\n",
       "    .dataframe thead th {\n",
       "        text-align: right;\n",
       "    }\n",
       "</style>\n",
       "<table border=\"1\" class=\"dataframe\">\n",
       "  <thead>\n",
       "    <tr style=\"text-align: right;\">\n",
       "      <th></th>\n",
       "      <th>ID</th>\n",
       "      <th>Name</th>\n",
       "      <th>Sex</th>\n",
       "      <th>Age</th>\n",
       "      <th>Height</th>\n",
       "      <th>Weight</th>\n",
       "      <th>Team</th>\n",
       "      <th>NOC</th>\n",
       "      <th>Games</th>\n",
       "      <th>Year</th>\n",
       "      <th>Season</th>\n",
       "      <th>City</th>\n",
       "      <th>Sport</th>\n",
       "      <th>Event</th>\n",
       "      <th>Medal</th>\n",
       "    </tr>\n",
       "  </thead>\n",
       "  <tbody>\n",
       "    <tr>\n",
       "      <td>8102</td>\n",
       "      <td>4476</td>\n",
       "      <td>Patrick R. Antaki</td>\n",
       "      <td>M</td>\n",
       "      <td>41.0</td>\n",
       "      <td>185.0</td>\n",
       "      <td>127.0</td>\n",
       "      <td>Lebanon</td>\n",
       "      <td>LIB</td>\n",
       "      <td>2006 Winter</td>\n",
       "      <td>2006</td>\n",
       "      <td>Winter</td>\n",
       "      <td>Torino</td>\n",
       "      <td>Skeleton</td>\n",
       "      <td>Skeleton Men's Skeleton</td>\n",
       "      <td>NaN</td>\n",
       "    </tr>\n",
       "    <tr>\n",
       "      <td>38615</td>\n",
       "      <td>19867</td>\n",
       "      <td>Zdeno Chra</td>\n",
       "      <td>M</td>\n",
       "      <td>28.0</td>\n",
       "      <td>206.0</td>\n",
       "      <td>116.0</td>\n",
       "      <td>Slovakia</td>\n",
       "      <td>SVK</td>\n",
       "      <td>2006 Winter</td>\n",
       "      <td>2006</td>\n",
       "      <td>Winter</td>\n",
       "      <td>Torino</td>\n",
       "      <td>Ice Hockey</td>\n",
       "      <td>Ice Hockey Men's Ice Hockey</td>\n",
       "      <td>NaN</td>\n",
       "    </tr>\n",
       "    <tr>\n",
       "      <td>129597</td>\n",
       "      <td>65246</td>\n",
       "      <td>Kevin Kuske</td>\n",
       "      <td>M</td>\n",
       "      <td>27.0</td>\n",
       "      <td>196.0</td>\n",
       "      <td>116.0</td>\n",
       "      <td>Germany-1</td>\n",
       "      <td>GER</td>\n",
       "      <td>2006 Winter</td>\n",
       "      <td>2006</td>\n",
       "      <td>Winter</td>\n",
       "      <td>Torino</td>\n",
       "      <td>Bobsleigh</td>\n",
       "      <td>Bobsleigh Men's Four</td>\n",
       "      <td>Gold</td>\n",
       "    </tr>\n",
       "    <tr>\n",
       "      <td>129596</td>\n",
       "      <td>65246</td>\n",
       "      <td>Kevin Kuske</td>\n",
       "      <td>M</td>\n",
       "      <td>27.0</td>\n",
       "      <td>196.0</td>\n",
       "      <td>116.0</td>\n",
       "      <td>Germany-1</td>\n",
       "      <td>GER</td>\n",
       "      <td>2006 Winter</td>\n",
       "      <td>2006</td>\n",
       "      <td>Winter</td>\n",
       "      <td>Torino</td>\n",
       "      <td>Bobsleigh</td>\n",
       "      <td>Bobsleigh Men's Two</td>\n",
       "      <td>Gold</td>\n",
       "    </tr>\n",
       "    <tr>\n",
       "      <td>48536</td>\n",
       "      <td>25017</td>\n",
       "      <td>Matthew John \"Matt\" Dallow</td>\n",
       "      <td>M</td>\n",
       "      <td>34.0</td>\n",
       "      <td>190.0</td>\n",
       "      <td>114.0</td>\n",
       "      <td>New Zealand</td>\n",
       "      <td>NZL</td>\n",
       "      <td>2006 Winter</td>\n",
       "      <td>2006</td>\n",
       "      <td>Winter</td>\n",
       "      <td>Torino</td>\n",
       "      <td>Bobsleigh</td>\n",
       "      <td>Bobsleigh Men's Two</td>\n",
       "      <td>NaN</td>\n",
       "    </tr>\n",
       "  </tbody>\n",
       "</table>\n",
       "</div>"
      ],
      "text/plain": [
       "           ID                        Name Sex   Age  Height  Weight  \\\n",
       "8102     4476           Patrick R. Antaki   M  41.0   185.0   127.0   \n",
       "38615   19867                  Zdeno Chra   M  28.0   206.0   116.0   \n",
       "129597  65246                 Kevin Kuske   M  27.0   196.0   116.0   \n",
       "129596  65246                 Kevin Kuske   M  27.0   196.0   116.0   \n",
       "48536   25017  Matthew John \"Matt\" Dallow   M  34.0   190.0   114.0   \n",
       "\n",
       "               Team  NOC        Games  Year  Season    City       Sport  \\\n",
       "8102        Lebanon  LIB  2006 Winter  2006  Winter  Torino    Skeleton   \n",
       "38615      Slovakia  SVK  2006 Winter  2006  Winter  Torino  Ice Hockey   \n",
       "129597    Germany-1  GER  2006 Winter  2006  Winter  Torino   Bobsleigh   \n",
       "129596    Germany-1  GER  2006 Winter  2006  Winter  Torino   Bobsleigh   \n",
       "48536   New Zealand  NZL  2006 Winter  2006  Winter  Torino   Bobsleigh   \n",
       "\n",
       "                              Event Medal  \n",
       "8102        Skeleton Men's Skeleton   NaN  \n",
       "38615   Ice Hockey Men's Ice Hockey   NaN  \n",
       "129597         Bobsleigh Men's Four  Gold  \n",
       "129596          Bobsleigh Men's Two  Gold  \n",
       "48536           Bobsleigh Men's Two   NaN  "
      ]
     },
     "execution_count": 15,
     "metadata": {},
     "output_type": "execute_result"
    }
   ],
   "source": [
    "# You code here\n",
    "data[data['Year'] == 2006].sort_values('Weight', ascending=False).head()"
   ]
  },
  {
   "cell_type": "markdown",
   "metadata": {},
   "source": [
    "__5. How many times did John Aalberg participate in the Olympics held in different years?__\n",
    "\n",
    "*For discussions, please stick to [ODS Slack](https://opendatascience.slack.com/), channel #mlcourse_ai_news, pinned thread #a1_q1-5_fall2019*\n",
    "\n",
    "- 0\n",
    "- 1<br>\n",
    "**- 2**\n",
    "- 3 "
   ]
  },
  {
   "cell_type": "code",
   "execution_count": 18,
   "metadata": {},
   "outputs": [
    {
     "data": {
      "text/html": [
       "<div>\n",
       "<style scoped>\n",
       "    .dataframe tbody tr th:only-of-type {\n",
       "        vertical-align: middle;\n",
       "    }\n",
       "\n",
       "    .dataframe tbody tr th {\n",
       "        vertical-align: top;\n",
       "    }\n",
       "\n",
       "    .dataframe thead th {\n",
       "        text-align: right;\n",
       "    }\n",
       "</style>\n",
       "<table border=\"1\" class=\"dataframe\">\n",
       "  <thead>\n",
       "    <tr style=\"text-align: right;\">\n",
       "      <th></th>\n",
       "      <th>ID</th>\n",
       "      <th>Name</th>\n",
       "      <th>Sex</th>\n",
       "      <th>Age</th>\n",
       "      <th>Height</th>\n",
       "      <th>Weight</th>\n",
       "      <th>Team</th>\n",
       "      <th>NOC</th>\n",
       "      <th>Games</th>\n",
       "      <th>Year</th>\n",
       "      <th>Season</th>\n",
       "      <th>City</th>\n",
       "      <th>Sport</th>\n",
       "      <th>Event</th>\n",
       "      <th>Medal</th>\n",
       "    </tr>\n",
       "  </thead>\n",
       "  <tbody>\n",
       "    <tr>\n",
       "      <td>18</td>\n",
       "      <td>7</td>\n",
       "      <td>John Aalberg</td>\n",
       "      <td>M</td>\n",
       "      <td>31.0</td>\n",
       "      <td>183.0</td>\n",
       "      <td>72.0</td>\n",
       "      <td>United States</td>\n",
       "      <td>USA</td>\n",
       "      <td>1992 Winter</td>\n",
       "      <td>1992</td>\n",
       "      <td>Winter</td>\n",
       "      <td>Albertville</td>\n",
       "      <td>Cross Country Skiing</td>\n",
       "      <td>Cross Country Skiing Men's 10 kilometres</td>\n",
       "      <td>NaN</td>\n",
       "    </tr>\n",
       "    <tr>\n",
       "      <td>22</td>\n",
       "      <td>7</td>\n",
       "      <td>John Aalberg</td>\n",
       "      <td>M</td>\n",
       "      <td>33.0</td>\n",
       "      <td>183.0</td>\n",
       "      <td>72.0</td>\n",
       "      <td>United States</td>\n",
       "      <td>USA</td>\n",
       "      <td>1994 Winter</td>\n",
       "      <td>1994</td>\n",
       "      <td>Winter</td>\n",
       "      <td>Lillehammer</td>\n",
       "      <td>Cross Country Skiing</td>\n",
       "      <td>Cross Country Skiing Men's 10 kilometres</td>\n",
       "      <td>NaN</td>\n",
       "    </tr>\n",
       "  </tbody>\n",
       "</table>\n",
       "</div>"
      ],
      "text/plain": [
       "    ID          Name Sex   Age  Height  Weight           Team  NOC  \\\n",
       "18   7  John Aalberg   M  31.0   183.0    72.0  United States  USA   \n",
       "22   7  John Aalberg   M  33.0   183.0    72.0  United States  USA   \n",
       "\n",
       "          Games  Year  Season         City                 Sport  \\\n",
       "18  1992 Winter  1992  Winter  Albertville  Cross Country Skiing   \n",
       "22  1994 Winter  1994  Winter  Lillehammer  Cross Country Skiing   \n",
       "\n",
       "                                       Event Medal  \n",
       "18  Cross Country Skiing Men's 10 kilometres   NaN  \n",
       "22  Cross Country Skiing Men's 10 kilometres   NaN  "
      ]
     },
     "execution_count": 18,
     "metadata": {},
     "output_type": "execute_result"
    }
   ],
   "source": [
    "# You code here\n",
    "data[data['Name'] == 'John Aalberg'].drop_duplicates(subset='Year')"
   ]
  },
  {
   "cell_type": "markdown",
   "metadata": {},
   "source": [
    "__6. How many gold medals in tennis did the Switzerland team win at the 2008 Olympics?__\n",
    "\n",
    "*For discussions, please stick to [ODS Slack](https://opendatascience.slack.com/), channel #mlcourse_ai_news, pinned thread #a1_q6-10_fall2019*\n",
    "\n",
    "- 0\n",
    "- 1<br>\n",
    "**- 2**\n",
    "- 3 "
   ]
  },
  {
   "cell_type": "code",
   "execution_count": 20,
   "metadata": {},
   "outputs": [
    {
     "data": {
      "text/html": [
       "<div>\n",
       "<style scoped>\n",
       "    .dataframe tbody tr th:only-of-type {\n",
       "        vertical-align: middle;\n",
       "    }\n",
       "\n",
       "    .dataframe tbody tr th {\n",
       "        vertical-align: top;\n",
       "    }\n",
       "\n",
       "    .dataframe thead th {\n",
       "        text-align: right;\n",
       "    }\n",
       "</style>\n",
       "<table border=\"1\" class=\"dataframe\">\n",
       "  <thead>\n",
       "    <tr style=\"text-align: right;\">\n",
       "      <th></th>\n",
       "      <th>ID</th>\n",
       "      <th>Name</th>\n",
       "      <th>Sex</th>\n",
       "      <th>Age</th>\n",
       "      <th>Height</th>\n",
       "      <th>Weight</th>\n",
       "      <th>Team</th>\n",
       "      <th>NOC</th>\n",
       "      <th>Games</th>\n",
       "      <th>Year</th>\n",
       "      <th>Season</th>\n",
       "      <th>City</th>\n",
       "      <th>Sport</th>\n",
       "      <th>Event</th>\n",
       "      <th>Medal</th>\n",
       "    </tr>\n",
       "  </thead>\n",
       "  <tbody>\n",
       "    <tr>\n",
       "      <td>67290</td>\n",
       "      <td>34396</td>\n",
       "      <td>Roger Federer</td>\n",
       "      <td>M</td>\n",
       "      <td>26.0</td>\n",
       "      <td>185.0</td>\n",
       "      <td>80.0</td>\n",
       "      <td>Switzerland</td>\n",
       "      <td>SUI</td>\n",
       "      <td>2008 Summer</td>\n",
       "      <td>2008</td>\n",
       "      <td>Summer</td>\n",
       "      <td>Beijing</td>\n",
       "      <td>Tennis</td>\n",
       "      <td>Tennis Men's Doubles</td>\n",
       "      <td>Gold</td>\n",
       "    </tr>\n",
       "    <tr>\n",
       "      <td>257672</td>\n",
       "      <td>129042</td>\n",
       "      <td>Stanislas Wawrinka</td>\n",
       "      <td>M</td>\n",
       "      <td>23.0</td>\n",
       "      <td>183.0</td>\n",
       "      <td>79.0</td>\n",
       "      <td>Switzerland</td>\n",
       "      <td>SUI</td>\n",
       "      <td>2008 Summer</td>\n",
       "      <td>2008</td>\n",
       "      <td>Summer</td>\n",
       "      <td>Beijing</td>\n",
       "      <td>Tennis</td>\n",
       "      <td>Tennis Men's Doubles</td>\n",
       "      <td>Gold</td>\n",
       "    </tr>\n",
       "  </tbody>\n",
       "</table>\n",
       "</div>"
      ],
      "text/plain": [
       "            ID                Name Sex   Age  Height  Weight         Team  \\\n",
       "67290    34396       Roger Federer   M  26.0   185.0    80.0  Switzerland   \n",
       "257672  129042  Stanislas Wawrinka   M  23.0   183.0    79.0  Switzerland   \n",
       "\n",
       "        NOC        Games  Year  Season     City   Sport                 Event  \\\n",
       "67290   SUI  2008 Summer  2008  Summer  Beijing  Tennis  Tennis Men's Doubles   \n",
       "257672  SUI  2008 Summer  2008  Summer  Beijing  Tennis  Tennis Men's Doubles   \n",
       "\n",
       "       Medal  \n",
       "67290   Gold  \n",
       "257672  Gold  "
      ]
     },
     "execution_count": 20,
     "metadata": {},
     "output_type": "execute_result"
    }
   ],
   "source": [
    "# You code here\n",
    "data[(data['Year'] ==2008) & (data['Team'] == 'Switzerland') & (data['Sport'] == 'Tennis') & (data['Medal'] == 'Gold')]"
   ]
  },
  {
   "cell_type": "markdown",
   "metadata": {},
   "source": [
    "__7. Is it true that Spain won fewer medals than Italy at the 2016 Olympics? Do not consider NaN values in _Medal_ column.__ \n",
    "\n",
    "*For discussions, please stick to [ODS Slack](https://opendatascience.slack.com/), channel #mlcourse_ai_news, pinned thread #a1_q6-10_fall2019*\n",
    "<br>\n",
    "**- Yes**\n",
    "- No"
   ]
  },
  {
   "cell_type": "code",
   "execution_count": 26,
   "metadata": {},
   "outputs": [
    {
     "name": "stdout",
     "output_type": "stream",
     "text": [
      "Medals won by Swiss in 2016 games\n",
      "43\n"
     ]
    }
   ],
   "source": [
    "# You code here\n",
    "print(\"Medals won by Swiss in 2016 games\")\n",
    "print(len(data[(data['Year'] == 2016) & (data['Team'] == 'Spain')].dropna(subset=['Medal'])))"
   ]
  },
  {
   "cell_type": "code",
   "execution_count": 25,
   "metadata": {},
   "outputs": [
    {
     "name": "stdout",
     "output_type": "stream",
     "text": [
      "Medals won by Italy in 2016 games\n",
      "70\n"
     ]
    }
   ],
   "source": [
    "print(\"Medals won by Italy in 2016 games\")\n",
    "print(len(data[(data['Year'] == 2016) & (data['Team'] == 'Italy')].dropna(subset=['Medal'])))"
   ]
  },
  {
   "cell_type": "markdown",
   "metadata": {},
   "source": [
    "__8. What are the most and least common age groups among the participants of the 2008 Olympics?__\n",
    "\n",
    "*For discussions, please stick to [ODS Slack](https://opendatascience.slack.com/), channel #mlcourse_ai_news, pinned thread #a1_q6-10_fall2019*\n",
    "<br>\n",
    "**- [45-55] and [25-35) correspondingly**\n",
    "- [45-55] and [15-25) correspondingly\n",
    "- [35-45) and [25-35) correspondingly\n",
    "- [45-55] and [35-45) correspondingly"
   ]
  },
  {
   "cell_type": "code",
   "execution_count": 32,
   "metadata": {},
   "outputs": [
    {
     "name": "stdout",
     "output_type": "stream",
     "text": [
      "Athletes in age group [15-25): 4776\n",
      "Athletes in age group [25-35): 5373\n",
      "Athletes in age group [35-45): 630\n",
      "Athletes in age group [45-55]: 78\n"
     ]
    }
   ],
   "source": [
    "# You code here\n",
    "part_2008 = data[data['Year'] == 2008].drop_duplicates(subset='Name')\n",
    "\n",
    "print(\"Athletes in age group [15-25): {}\".format(len(part_2008[(part_2008['Age'] >= 15) & (part_2008['Age'] < 25)])))\n",
    "print(\"Athletes in age group [25-35): {}\".format(len(part_2008[(part_2008['Age'] >= 25) & (part_2008['Age'] < 35)])))\n",
    "print(\"Athletes in age group [35-45): {}\".format(len(part_2008[(part_2008['Age'] >= 35) & (part_2008['Age'] < 45)])))\n",
    "print(\"Athletes in age group [45-55]: {}\".format(len(part_2008[(part_2008['Age'] >= 45) & (part_2008['Age'] <= 55)])))"
   ]
  },
  {
   "cell_type": "markdown",
   "metadata": {},
   "source": [
    "__9. Is it true that there were Summer Olympics held in Atlanta? Is it true that there were Winter Olympics held in Squaw Valley?__\n",
    "\n",
    "*For discussions, please stick to [ODS Slack](https://opendatascience.slack.com/), channel #mlcourse_ai_news, pinned thread #a1_q6-10_fall2019*\n",
    "<br>\n",
    "**- Yes, Yes**\n",
    "- Yes, No\n",
    "- No, Yes \n",
    "- No, No "
   ]
  },
  {
   "cell_type": "code",
   "execution_count": 34,
   "metadata": {},
   "outputs": [
    {
     "data": {
      "text/plain": [
       "13780"
      ]
     },
     "execution_count": 34,
     "metadata": {},
     "output_type": "execute_result"
    }
   ],
   "source": [
    "# You code here\n",
    "len(data[(data['City'] == 'Atlanta') & ( data['Season'] == 'Summer')])"
   ]
  },
  {
   "cell_type": "code",
   "execution_count": 35,
   "metadata": {},
   "outputs": [
    {
     "data": {
      "text/plain": [
       "1116"
      ]
     },
     "execution_count": 35,
     "metadata": {},
     "output_type": "execute_result"
    }
   ],
   "source": [
    "len(data[(data['City'] == 'Squaw Valley') & ( data['Season'] == 'Winter')])"
   ]
  },
  {
   "cell_type": "markdown",
   "metadata": {},
   "source": [
    "__10. What is the absolute difference between the number of unique sports at the 1986 Olympics and 2002 Olympics?__\n",
    "\n",
    "*For discussions, please stick to [ODS Slack](https://opendatascience.slack.com/), channel #mlcourse_ai_news, pinned thread #a1_q6-10_fall2019*\n",
    "\n",
    "- 3 \n",
    "- 10<br>\n",
    "**- 15**\n",
    "- 27 "
   ]
  },
  {
   "cell_type": "code",
   "execution_count": 43,
   "metadata": {},
   "outputs": [
    {
     "data": {
      "text/plain": [
       "15"
      ]
     },
     "execution_count": 43,
     "metadata": {},
     "output_type": "execute_result"
    }
   ],
   "source": [
    "# You code here\n",
    "data[data['Year'] == 2002]['Sport'].nunique() - data[data['Year'] == 1986]['Sport'].nunique()"
   ]
  },
  {
   "cell_type": "markdown",
   "metadata": {},
   "source": [
    "That's it! Now go and do 30 push-ups! :)"
   ]
  }
 ],
 "metadata": {
  "kernelspec": {
   "display_name": "Python 3",
   "language": "python",
   "name": "python3"
  },
  "language_info": {
   "codemirror_mode": {
    "name": "ipython",
    "version": 3
   },
   "file_extension": ".py",
   "mimetype": "text/x-python",
   "name": "python",
   "nbconvert_exporter": "python",
   "pygments_lexer": "ipython3",
   "version": "3.7.4"
  }
 },
 "nbformat": 4,
 "nbformat_minor": 2
}
